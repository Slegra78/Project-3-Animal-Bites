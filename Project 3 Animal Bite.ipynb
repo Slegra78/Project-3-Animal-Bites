{
 "cells": [
  {
   "cell_type": "markdown",
   "metadata": {},
   "source": [
    "**INTRODUCTION**\n",
    "<a href=\"http://imgbb.com/\"><img src=\"http://www.tania-magdalene.com/wp/wp-content/uploads/2015/03/websiteanimalhealings.jpg\" alt=\"int\" border=\"0\"></a>"
   ]
  },
  {
   "cell_type": "markdown",
   "metadata": {},
   "source": [
    "First we import a few packages numpy, pandas for data processing and reading csv files., seaborn fro visulazation, ad finally matplotlib.\n",
    "\n",
    "Running this will list all the files in the directory"
   ]
  },
  {
   "cell_type": "code",
   "execution_count": 2,
   "metadata": {},
   "outputs": [],
   "source": [
    "import numpy as np \n",
    "import pandas as pd \n",
    "import seaborn as sns \n",
    "import matplotlib.pyplot as plt\n",
    "import matplotlib.patches as patches\n",
    "\n",
    "\n",
    "from subprocess import check_output\n"
   ]
  },
  {
   "cell_type": "code",
   "execution_count": 4,
   "metadata": {},
   "outputs": [],
   "source": [
    "data = pd.read_csv('Health_AnimalBites.csv')"
   ]
  },
  {
   "cell_type": "code",
   "execution_count": 6,
   "metadata": {},
   "outputs": [
    {
     "data": {
      "text/html": [
       "<div>\n",
       "<style>\n",
       "    .dataframe thead tr:only-child th {\n",
       "        text-align: right;\n",
       "    }\n",
       "\n",
       "    .dataframe thead th {\n",
       "        text-align: left;\n",
       "    }\n",
       "\n",
       "    .dataframe tbody tr th {\n",
       "        vertical-align: top;\n",
       "    }\n",
       "</style>\n",
       "<table border=\"1\" class=\"dataframe\">\n",
       "  <thead>\n",
       "    <tr style=\"text-align: right;\">\n",
       "      <th></th>\n",
       "      <th>bite_date</th>\n",
       "      <th>SpeciesIDDesc</th>\n",
       "      <th>BreedIDDesc</th>\n",
       "      <th>GenderIDDesc</th>\n",
       "      <th>color</th>\n",
       "      <th>vaccination_yrs</th>\n",
       "      <th>vaccination_date</th>\n",
       "      <th>victim_zip</th>\n",
       "      <th>AdvIssuedYNDesc</th>\n",
       "      <th>WhereBittenIDDesc</th>\n",
       "      <th>quarantine_date</th>\n",
       "      <th>DispositionIDDesc</th>\n",
       "      <th>head_sent_date</th>\n",
       "      <th>release_date</th>\n",
       "      <th>ResultsIDDesc</th>\n",
       "    </tr>\n",
       "  </thead>\n",
       "  <tbody>\n",
       "    <tr>\n",
       "      <th>0</th>\n",
       "      <td>1985-05-05 00:00:00</td>\n",
       "      <td>DOG</td>\n",
       "      <td>NaN</td>\n",
       "      <td>FEMALE</td>\n",
       "      <td>LIG. BROWN</td>\n",
       "      <td>1.0</td>\n",
       "      <td>1985-06-20 00:00:00</td>\n",
       "      <td>40229</td>\n",
       "      <td>NO</td>\n",
       "      <td>BODY</td>\n",
       "      <td>1985-05-05 00:00:00</td>\n",
       "      <td>UNKNOWN</td>\n",
       "      <td>NaN</td>\n",
       "      <td>NaN</td>\n",
       "      <td>UNKNOWN</td>\n",
       "    </tr>\n",
       "    <tr>\n",
       "      <th>1</th>\n",
       "      <td>1986-02-12 00:00:00</td>\n",
       "      <td>DOG</td>\n",
       "      <td>NaN</td>\n",
       "      <td>UNKNOWN</td>\n",
       "      <td>BRO &amp; BLA</td>\n",
       "      <td>NaN</td>\n",
       "      <td>NaN</td>\n",
       "      <td>40218</td>\n",
       "      <td>NO</td>\n",
       "      <td>BODY</td>\n",
       "      <td>1986-02-12 00:00:00</td>\n",
       "      <td>UNKNOWN</td>\n",
       "      <td>NaN</td>\n",
       "      <td>NaN</td>\n",
       "      <td>UNKNOWN</td>\n",
       "    </tr>\n",
       "    <tr>\n",
       "      <th>2</th>\n",
       "      <td>1987-05-07 00:00:00</td>\n",
       "      <td>DOG</td>\n",
       "      <td>NaN</td>\n",
       "      <td>UNKNOWN</td>\n",
       "      <td>NaN</td>\n",
       "      <td>NaN</td>\n",
       "      <td>NaN</td>\n",
       "      <td>40219</td>\n",
       "      <td>NO</td>\n",
       "      <td>BODY</td>\n",
       "      <td>1990-05-07 00:00:00</td>\n",
       "      <td>UNKNOWN</td>\n",
       "      <td>NaN</td>\n",
       "      <td>NaN</td>\n",
       "      <td>UNKNOWN</td>\n",
       "    </tr>\n",
       "    <tr>\n",
       "      <th>3</th>\n",
       "      <td>1988-10-02 00:00:00</td>\n",
       "      <td>DOG</td>\n",
       "      <td>NaN</td>\n",
       "      <td>MALE</td>\n",
       "      <td>BLA &amp; BRO</td>\n",
       "      <td>NaN</td>\n",
       "      <td>NaN</td>\n",
       "      <td>NaN</td>\n",
       "      <td>NO</td>\n",
       "      <td>BODY</td>\n",
       "      <td>1990-10-02 00:00:00</td>\n",
       "      <td>UNKNOWN</td>\n",
       "      <td>NaN</td>\n",
       "      <td>NaN</td>\n",
       "      <td>UNKNOWN</td>\n",
       "    </tr>\n",
       "    <tr>\n",
       "      <th>4</th>\n",
       "      <td>1989-08-29 00:00:00</td>\n",
       "      <td>DOG</td>\n",
       "      <td>NaN</td>\n",
       "      <td>FEMALE</td>\n",
       "      <td>BLK-WHT</td>\n",
       "      <td>NaN</td>\n",
       "      <td>NaN</td>\n",
       "      <td>NaN</td>\n",
       "      <td>NO</td>\n",
       "      <td>BODY</td>\n",
       "      <td>NaN</td>\n",
       "      <td>UNKNOWN</td>\n",
       "      <td>NaN</td>\n",
       "      <td>NaN</td>\n",
       "      <td>UNKNOWN</td>\n",
       "    </tr>\n",
       "  </tbody>\n",
       "</table>\n",
       "</div>"
      ],
      "text/plain": [
       "             bite_date SpeciesIDDesc BreedIDDesc GenderIDDesc       color  \\\n",
       "0  1985-05-05 00:00:00           DOG         NaN       FEMALE  LIG. BROWN   \n",
       "1  1986-02-12 00:00:00           DOG         NaN      UNKNOWN   BRO & BLA   \n",
       "2  1987-05-07 00:00:00           DOG         NaN      UNKNOWN         NaN   \n",
       "3  1988-10-02 00:00:00           DOG         NaN         MALE   BLA & BRO   \n",
       "4  1989-08-29 00:00:00           DOG         NaN       FEMALE     BLK-WHT   \n",
       "\n",
       "   vaccination_yrs     vaccination_date victim_zip AdvIssuedYNDesc  \\\n",
       "0              1.0  1985-06-20 00:00:00      40229              NO   \n",
       "1              NaN                  NaN      40218              NO   \n",
       "2              NaN                  NaN      40219              NO   \n",
       "3              NaN                  NaN        NaN              NO   \n",
       "4              NaN                  NaN        NaN              NO   \n",
       "\n",
       "  WhereBittenIDDesc      quarantine_date DispositionIDDesc head_sent_date  \\\n",
       "0              BODY  1985-05-05 00:00:00           UNKNOWN            NaN   \n",
       "1              BODY  1986-02-12 00:00:00           UNKNOWN            NaN   \n",
       "2              BODY  1990-05-07 00:00:00           UNKNOWN            NaN   \n",
       "3              BODY  1990-10-02 00:00:00           UNKNOWN            NaN   \n",
       "4              BODY                  NaN           UNKNOWN            NaN   \n",
       "\n",
       "  release_date ResultsIDDesc  \n",
       "0          NaN       UNKNOWN  \n",
       "1          NaN       UNKNOWN  \n",
       "2          NaN       UNKNOWN  \n",
       "3          NaN       UNKNOWN  \n",
       "4          NaN       UNKNOWN  "
      ]
     },
     "execution_count": 6,
     "metadata": {},
     "output_type": "execute_result"
    }
   ],
   "source": [
    "data.head()"
   ]
  },
  {
   "cell_type": "markdown",
   "metadata": {},
   "source": [
    "The data looks at 9 different animals and their bite numbers"
   ]
  },
  {
   "cell_type": "code",
   "execution_count": 8,
   "metadata": {},
   "outputs": [
    {
     "name": "stdout",
     "output_type": "stream",
     "text": [
      "['DOG' 'CAT' 'BAT' 'RACCOON' 'OTHER' 'RABBIT' 'HORSE' 'SKUNK' 'FERRET']\n"
     ]
    }
   ],
   "source": [
    "species = data.SpeciesIDDesc\n",
    "species = species.dropna() \n",
    "speciesOfAnimal = species.unique()\n",
    "print(speciesOfAnimal)"
   ]
  },
  {
   "cell_type": "code",
   "execution_count": 9,
   "metadata": {},
   "outputs": [
    {
     "name": "stdout",
     "output_type": "stream",
     "text": [
      "[7029, 1568, 237, 27, 11, 3, 5, 1, 4]\n"
     ]
    }
   ],
   "source": [
    "animal_list = []\n",
    "for  i in speciesOfAnimal:\n",
    "    animal_list.append(len(species[species==i]))\n",
    "ax = sns.barplot(x=speciesOfAnimal, y =animal_list)\n",
    "plt.title('Number of Species Bite')\n",
    "plt.xticks(rotation=90)\n",
    "print(animal_list)"
   ]
  },
  {
   "cell_type": "code",
   "execution_count": 10,
   "metadata": {
    "collapsed": true
   },
   "outputs": [],
   "source": [
    "def animal_month(animal,data):\n",
    "    month_list= ['01','02','03','04','05','06','07','08','09','10','11','12']\n",
    "    numberOfAnimal = []\n",
    "    for i in month_list:\n",
    "        x = data.loc[(data['SpeciesIDDesc']==animal)&(data['bite_date'].str.split('-').str[1]==i)]\n",
    "        numberOfAnimal.append(len(x))\n",
    "    ax = sns.barplot(x=month_list,y=numberOfAnimal,palette  = \"Greens\")\n",
    "    plt.title(animal + ' bite for 12 month')"
   ]
  },
  {
   "cell_type": "code",
   "execution_count": 11,
   "metadata": {
    "collapsed": true
   },
   "outputs": [],
   "source": [
    "animal_month('DOG',data)"
   ]
  },
  {
   "cell_type": "code",
   "execution_count": 12,
   "metadata": {
    "collapsed": true
   },
   "outputs": [],
   "source": [
    "animal_month('BAT',data)"
   ]
  },
  {
   "cell_type": "code",
   "execution_count": 13,
   "metadata": {},
   "outputs": [
    {
     "name": "stdout",
     "output_type": "stream",
     "text": [
      "Index(['PIT BULL', 'GERM SHEPHERD', 'LABRADOR RETRIV', 'BOXER', 'CHICHAUHUA',\n",
      "       'SHIH TZU', 'BEAGLE', 'ROTTWEILER', 'AAUST. TERR.', 'DACHSHUND'],\n",
      "      dtype='object')\n"
     ]
    }
   ],
   "source": [
    "count = data.BreedIDDesc.value_counts()\n",
    "plt.figure(figsize=(15,8))\n",
    "ax = sns.barplot(x=count[0:10].index,y=count[0:10])\n",
    "plt.xticks(rotation=40)\n",
    "plt.ylabel(\"Number of Bite\")\n",
    "print(count[0:10].index)"
   ]
  },
  {
   "cell_type": "code",
   "execution_count": 14,
   "metadata": {
    "collapsed": true
   },
   "outputs": [],
   "source": [
    "def bite_place(animal,data):\n",
    "    bitePlaces = data.WhereBittenIDDesc.unique()\n",
    "    head = data.loc[(data['SpeciesIDDesc']==animal)&(data['WhereBittenIDDesc']=='HEAD')]\n",
    "    body = data.loc[(data['SpeciesIDDesc']==animal)&(data['WhereBittenIDDesc']=='BODY')]\n",
    "    numberOfHead = len(head)\n",
    "    numberOfBody = len(body)\n",
    "    total = numberOfHead+numberOfBody\n",
    "    fig1=plt.figure()\n",
    "    ax1=fig1.add_subplot(111,aspect='equal')\n",
    "    ax1.add_patch(\n",
    "        patches.Rectangle((0.3,0.1),0.4,0.5,alpha=numberOfBody/float(total),color='c')\n",
    "    )\n",
    "    circle = plt.Circle((0.5,0.7),0.1,color='m',alpha=numberOfHead/float(total))\n",
    "    ax1.add_artist(circle)\n",
    "    plt.text(0.45,0.7,round(numberOfHead/float(total),2))\n",
    "    plt.text(0.45,0.4,round(numberOfBody/float(total),2))\n",
    "    plt.title(str(animal)+' Bite Probability of Head and Body')"
   ]
  },
  {
   "cell_type": "code",
   "execution_count": 27,
   "metadata": {
    "collapsed": true
   },
   "outputs": [],
   "source": [
    "bite_place('DOG', data)"
   ]
  },
  {
   "cell_type": "code",
   "execution_count": 28,
   "metadata": {
    "collapsed": true
   },
   "outputs": [],
   "source": [
    "bite_place('CAT',data)"
   ]
  },
  {
   "cell_type": "code",
   "execution_count": 29,
   "metadata": {
    "collapsed": true
   },
   "outputs": [],
   "source": [
    "bite_place('BAT',data)"
   ]
  },
  {
   "cell_type": "markdown",
   "metadata": {},
   "source": [
    "**Bite Positions**\n",
    "* Dogs are 19% more likely to bite people on the head adn 81% on the body.\n",
    "* Cats are 4% more likely to bite people on the head and 96% on the body.\n",
    "* Bats are 5% more likely to bite people on the head and 95% on the body."
   ]
  },
  {
   "cell_type": "code",
   "execution_count": 30,
   "metadata": {},
   "outputs": [
    {
     "name": "stdout",
     "output_type": "stream",
     "text": [
      "MALE      3832\n",
      "FEMALE    2016\n",
      "Name: GenderIDDesc, dtype: int64\n"
     ]
    }
   ],
   "source": [
    "gender = ['MALE', 'FEMALE']\n",
    "count_gender = data.GenderIDDesc.value_counts()\n",
    "plt.figure(figsize = (4, 4))\n",
    "x = sns.barplot(x = gender, y = count_gender[0:2])\n",
    "plt.ylabel('Number of Bites')\n",
    "plt.xticks(rotation = 10)\n",
    "plt.title('MALE VS FEMALE')\n",
    "print(count_gender[0:2])"
   ]
  },
  {
   "cell_type": "code",
   "execution_count": 31,
   "metadata": {
    "collapsed": true
   },
   "outputs": [],
   "source": [
    "def rabid_prob(animal,data):\n",
    "    labels = ['POSITIVE','NEGATIVE']\n",
    "    colors = ['cyan','green']\n",
    "    explode = [0.1,0]\n",
    "    p = data.loc[(data['SpeciesIDDesc']==animal)&(data['ResultsIDDesc']=='POSITIVE')]\n",
    "    n = data.loc[(data['SpeciesIDDesc']==animal)&(data['ResultsIDDesc']=='NEGATIVE')]\n",
    "    sizes = [len(p),len(n)]\n",
    "    print(sizes)\n",
    "    if len(p)==0:\n",
    "        labels = ['','NEGATIVE']\n",
    "    plt.pie(sizes,explode=explode,labels=labels,colors=colors,autopct ='%1.1f&&')\n",
    "    plt.axis('equal')\n",
    "    plt.title(animal + ' Rabid Probability')\n",
    "    plt.show()"
   ]
  },
  {
   "cell_type": "code",
   "execution_count": 32,
   "metadata": {},
   "outputs": [
    {
     "name": "stdout",
     "output_type": "stream",
     "text": [
      "[1, 58]\n"
     ]
    },
    {
     "data": {
      "image/png": "[encoded data removed]",
      "text/plain": [
       "<matplotlib.figure.Figure at 0x1e317d69a58>"
      ]
     },
     "metadata": {},
     "output_type": "display_data"
    },
    {
     "data": {
      "text/plain": [
       "<matplotlib.figure.Figure at 0x1e316cbef60>"
      ]
     },
     "metadata": {},
     "output_type": "display_data"
    },
    {
     "data": {
      "image/png": "[encoded data removed]",
      "text/plain": [
       "<matplotlib.figure.Figure at 0x1e316c8f6d8>"
      ]
     },
     "metadata": {},
     "output_type": "display_data"
    },
    {
     "data": {
      "image/png": "[encoded data removed]",
      "text/plain": [
       "<matplotlib.figure.Figure at 0x1e316855908>"
      ]
     },
     "metadata": {},
     "output_type": "display_data"
    },
    {
     "data": {
      "image/png": "[encoded data removed]",
      "text/plain": [
       "<matplotlib.figure.Figure at 0x1e31689b358>"
      ]
     },
     "metadata": {},
     "output_type": "display_data"
    },
    {
     "data": {
      "image/png": "[encoded data removed]",
      "text/plain": [
       "<matplotlib.figure.Figure at 0x1e316a0d828>"
      ]
     },
     "metadata": {},
     "output_type": "display_data"
    },
    {
     "data": {
      "image/png": "[encoded data removed]",
      "text/plain": [
       "<matplotlib.figure.Figure at 0x1e3169be208>"
      ]
     },
     "metadata": {},
     "output_type": "display_data"
    }
   ],
   "source": [
    "rabid_prob('DOG', data)"
   ]
  },
  {
   "cell_type": "code",
   "execution_count": 33,
   "metadata": {},
   "outputs": [
    {
     "name": "stdout",
     "output_type": "stream",
     "text": [
      "[3, 160]\n"
     ]
    },
    {
     "data": {
      "image/png": "[encoded data removed]",
      "text/plain": [
       "<matplotlib.figure.Figure at 0x1e3169f1630>"
      ]
     },
     "metadata": {},
     "output_type": "display_data"
    }
   ],
   "source": [
    "rabid_prob('BAT',data)"
   ]
  },
  {
   "cell_type": "code",
   "execution_count": 34,
   "metadata": {},
   "outputs": [
    {
     "name": "stdout",
     "output_type": "stream",
     "text": [
      "                bite_date SpeciesIDDesc      BreedIDDesc GenderIDDesc  color  \\\n",
      "1418  2015-05-05 00:00:00           BAT              NaN          NaN    NaN   \n",
      "1502  2017-04-29 00:00:00           DOG  GREAT PYRENEESE       FEMALE  WHITE   \n",
      "1677                  NaN           BAT              NaN          NaN    NaN   \n",
      "1678                  NaN           BAT              NaN          NaN    NaN   \n",
      "\n",
      "     ResultsIDDesc  \n",
      "1418      POSITIVE  \n",
      "1502      POSITIVE  \n",
      "1677      POSITIVE  \n",
      "1678      POSITIVE  \n"
     ]
    }
   ],
   "source": [
    "a = data.loc[(data['ResultsIDDesc']=='POSITIVE')]\n",
    "a = a.loc[:,['bite_date','SpeciesIDDesc','BreedIDDesc','GenderIDDesc','color','ResultsIDDesc']]\n",
    "print(a)"
   ]
  },
  {
   "cell_type": "markdown",
   "metadata": {},
   "source": [
    "**CONCLUSION**\n",
    "* The data gives us a good amount of information about animal bites and which animals are more likely to bite people and where the mst common bite locations are.\n",
    "* Even with this data we cannont predict if an animals is going to bite someone because animals are just that animals and can be unpredictable when pushed to the limits."
   ]
  },
  {
   "cell_type": "code",
   "execution_count": null,
   "metadata": {
    "collapsed": true
   },
   "outputs": [],
   "source": []
  }
 ],
 "metadata": {
  "kernelspec": {
   "display_name": "Python 3",
   "language": "python",
   "name": "python3"
  },
  "language_info": {
   "codemirror_mode": {
    "name": "ipython",
    "version": 3
   },
   "file_extension": ".py",
   "mimetype": "text/x-python",
   "name": "python",
   "nbconvert_exporter": "python",
   "pygments_lexer": "ipython3",
   "version": "3.6.1"
  }
 },
 "nbformat": 4,
 "nbformat_minor": 2
}
